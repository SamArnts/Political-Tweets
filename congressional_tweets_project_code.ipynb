{
 "cells": [
  {
   "cell_type": "markdown",
   "id": "4c359b23",
   "metadata": {},
   "source": [
    "## Sam Arnts\n",
    "## Hanyang Zhang\n",
    "## DSCC 265\n",
    "## Kaggle Competition"
   ]
  },
  {
   "cell_type": "code",
   "execution_count": 56,
   "id": "07769b93",
   "metadata": {},
   "outputs": [],
   "source": [
    "import pandas as pd\n",
    "import numpy as np\n",
    "import nltk\n",
    "import re\n",
    "from nltk import word_tokenize\n",
    "from nltk.stem import WordNetLemmatizer\n",
    "from nltk.corpus import wordnet\n",
    "from nltk.corpus import stopwords\n",
    "from sklearn import preprocessing\n",
    "from sklearn.model_selection import train_test_split\n",
    "from sklearn.feature_extraction.text import CountVectorizer,TfidfVectorizer\n",
    "from sklearn.metrics import accuracy_score\n",
    "from sklearn.linear_model import LogisticRegressionCV\n",
    "from nltk.sentiment import SentimentIntensityAnalyzer\n",
    "from sklearn.naive_bayes import GaussianNB\n",
    "from sklearn.naive_bayes import CategoricalNB\n",
    "from sklearn.naive_bayes import ComplementNB\n",
    "from sklearn.cluster import KMeans\n",
    "from sklearn.ensemble import RandomForestClassifier\n",
    "from sklearn.ensemble import AdaBoostClassifier\n",
    "from scipy import sparse"
   ]
  },
  {
   "cell_type": "code",
   "execution_count": 57,
   "id": "d6dee7d1",
   "metadata": {},
   "outputs": [
    {
     "data": {
      "text/html": [
       "<div>\n",
       "<style scoped>\n",
       "    .dataframe tbody tr th:only-of-type {\n",
       "        vertical-align: middle;\n",
       "    }\n",
       "\n",
       "    .dataframe tbody tr th {\n",
       "        vertical-align: top;\n",
       "    }\n",
       "\n",
       "    .dataframe thead th {\n",
       "        text-align: right;\n",
       "    }\n",
       "</style>\n",
       "<table border=\"1\" class=\"dataframe\">\n",
       "  <thead>\n",
       "    <tr style=\"text-align: right;\">\n",
       "      <th></th>\n",
       "      <th>favorite_count</th>\n",
       "      <th>full_text</th>\n",
       "      <th>hashtags</th>\n",
       "      <th>retweet_count</th>\n",
       "      <th>year</th>\n",
       "      <th>party_id</th>\n",
       "    </tr>\n",
       "  </thead>\n",
       "  <tbody>\n",
       "    <tr>\n",
       "      <th>0</th>\n",
       "      <td>0</td>\n",
       "      <td>b\"RT @KUSINews: One of our longtime viewers wa...</td>\n",
       "      <td>KUSI</td>\n",
       "      <td>10</td>\n",
       "      <td>2017.0</td>\n",
       "      <td>R</td>\n",
       "    </tr>\n",
       "    <tr>\n",
       "      <th>1</th>\n",
       "      <td>258</td>\n",
       "      <td>b\"Today I'm urging the @CDCgov to immediately ...</td>\n",
       "      <td>Coronavirus</td>\n",
       "      <td>111</td>\n",
       "      <td>2020.0</td>\n",
       "      <td>R</td>\n",
       "    </tr>\n",
       "    <tr>\n",
       "      <th>2</th>\n",
       "      <td>0</td>\n",
       "      <td>b'Tomorrow, #MO03 seniors graduate from Calvar...</td>\n",
       "      <td>MO03</td>\n",
       "      <td>2</td>\n",
       "      <td>2014.0</td>\n",
       "      <td>R</td>\n",
       "    </tr>\n",
       "    <tr>\n",
       "      <th>3</th>\n",
       "      <td>9</td>\n",
       "      <td>b'Congrats to #TeamUSA and Canton Native @JGre...</td>\n",
       "      <td>TeamUSA WorldJuniors</td>\n",
       "      <td>3</td>\n",
       "      <td>2017.0</td>\n",
       "      <td>R</td>\n",
       "    </tr>\n",
       "    <tr>\n",
       "      <th>4</th>\n",
       "      <td>3</td>\n",
       "      <td>b'Pleased to support @amergateways at their Ju...</td>\n",
       "      <td>ImmigrantHeritageMonth</td>\n",
       "      <td>3</td>\n",
       "      <td>2019.0</td>\n",
       "      <td>D</td>\n",
       "    </tr>\n",
       "  </tbody>\n",
       "</table>\n",
       "</div>"
      ],
      "text/plain": [
       "   favorite_count                                          full_text  \\\n",
       "0               0  b\"RT @KUSINews: One of our longtime viewers wa...   \n",
       "1             258  b\"Today I'm urging the @CDCgov to immediately ...   \n",
       "2               0  b'Tomorrow, #MO03 seniors graduate from Calvar...   \n",
       "3               9  b'Congrats to #TeamUSA and Canton Native @JGre...   \n",
       "4               3  b'Pleased to support @amergateways at their Ju...   \n",
       "\n",
       "                 hashtags  retweet_count    year party_id  \n",
       "0                    KUSI             10  2017.0        R  \n",
       "1             Coronavirus            111  2020.0        R  \n",
       "2                    MO03              2  2014.0        R  \n",
       "3    TeamUSA WorldJuniors              3  2017.0        R  \n",
       "4  ImmigrantHeritageMonth              3  2019.0        D  "
      ]
     },
     "execution_count": 57,
     "metadata": {},
     "output_type": "execute_result"
    }
   ],
   "source": [
    "train_data = pd.read_csv(\"congressional_tweet_training_data.csv\")\n",
    "train_data.head()"
   ]
  },
  {
   "cell_type": "code",
   "execution_count": 58,
   "id": "b49d53e0",
   "metadata": {},
   "outputs": [],
   "source": [
    "train_data['full_text'] = train_data['full_text'].apply(str)    "
   ]
  },
  {
   "cell_type": "code",
   "execution_count": 59,
   "id": "b7633767",
   "metadata": {},
   "outputs": [],
   "source": [
    "text = train_data['full_text']\n",
    "hashtags = train_data['hashtags']"
   ]
  },
  {
   "cell_type": "code",
   "execution_count": 60,
   "id": "1fdbcf43",
   "metadata": {},
   "outputs": [],
   "source": [
    "lemmatizer = WordNetLemmatizer()\n",
    "stop_words = set(stopwords.words('english'))\n",
    "sia = SentimentIntensityAnalyzer()"
   ]
  },
  {
   "cell_type": "code",
   "execution_count": 61,
   "id": "472181b6",
   "metadata": {},
   "outputs": [],
   "source": [
    "def clean(text):\n",
    "    clean_text = []\n",
    "    sentiment = []\n",
    "    for tweet in text:\n",
    "        ##getting rid of links, charcters, weird x/ phrases\n",
    "        tweet = re.sub(r'http\\S+', '', tweet)\n",
    "        tweet = re.sub(\"[^a-zA-Z]\", \" \", tweet)\n",
    "        tweet = re.sub('xe2', \" \", tweet)\n",
    "        \n",
    "        tweet = tweet.lower()\n",
    "        \n",
    "        #replacting amp with and (shows up as amp in text instead of &)\n",
    "        tweet = tweet.replace(\"amp\", \"and\")\n",
    "        \n",
    "        #sentiment analysis\n",
    "        polarity = sia.polarity_scores(tweet)\n",
    "        \n",
    "        sentiment.append(polarity['pos'] - polarity['neg']) \n",
    "            \n",
    "        #tokenizing\n",
    "        tweet = nltk.word_tokenize(tweet)\n",
    "        \n",
    "        #getting rid of 'b'\n",
    "        tweet.pop(0)\n",
    "        \n",
    "        #removing stop words and getting rid of weird x-phrases  and 'b in data set\n",
    "        tweet = [word for word in tweet if not word in (tuple(stop_words))]\n",
    "        \n",
    "        #getting rid of weird /xe2 phrase\n",
    "        tweet = [word for word in tweet if not (word[0] =='x')]\n",
    "        \n",
    "        \n",
    "        #lemmatizing\n",
    "        tweet = [lemmatizer.lemmatize(word) for word in tweet]\n",
    "        \n",
    "        \n",
    "        #joining back together\n",
    "        tweet = \" \".join(tweet)\n",
    "        \n",
    "        \n",
    "        clean_text.append(tweet)\n",
    "    return clean_text, sentiment"
   ]
  },
  {
   "cell_type": "code",
   "execution_count": 62,
   "id": "0bdf1943",
   "metadata": {},
   "outputs": [],
   "source": [
    "#cleaning the text, getting the tweet sentiment\n",
    "clean_text, tweet_sentiment = clean(text)"
   ]
  },
  {
   "cell_type": "code",
   "execution_count": 63,
   "id": "f1bf1c84",
   "metadata": {},
   "outputs": [
    {
     "data": {
      "text/html": [
       "<div>\n",
       "<style scoped>\n",
       "    .dataframe tbody tr th:only-of-type {\n",
       "        vertical-align: middle;\n",
       "    }\n",
       "\n",
       "    .dataframe tbody tr th {\n",
       "        vertical-align: top;\n",
       "    }\n",
       "\n",
       "    .dataframe thead th {\n",
       "        text-align: right;\n",
       "    }\n",
       "</style>\n",
       "<table border=\"1\" class=\"dataframe\">\n",
       "  <thead>\n",
       "    <tr style=\"text-align: right;\">\n",
       "      <th></th>\n",
       "      <th>favorite_count</th>\n",
       "      <th>full_text</th>\n",
       "      <th>hashtags</th>\n",
       "      <th>retweet_count</th>\n",
       "      <th>year</th>\n",
       "      <th>party_id</th>\n",
       "      <th>clean_text</th>\n",
       "    </tr>\n",
       "  </thead>\n",
       "  <tbody>\n",
       "    <tr>\n",
       "      <th>0</th>\n",
       "      <td>0</td>\n",
       "      <td>b\"RT @KUSINews: One of our longtime viewers wa...</td>\n",
       "      <td>KUSI</td>\n",
       "      <td>10</td>\n",
       "      <td>2017.0</td>\n",
       "      <td>R</td>\n",
       "      <td>rt kusinews one longtime viewer congressman da...</td>\n",
       "    </tr>\n",
       "    <tr>\n",
       "      <th>1</th>\n",
       "      <td>258</td>\n",
       "      <td>b\"Today I'm urging the @CDCgov to immediately ...</td>\n",
       "      <td>Coronavirus</td>\n",
       "      <td>111</td>\n",
       "      <td>2020.0</td>\n",
       "      <td>R</td>\n",
       "      <td>today urging cdcgov immediately launch phone h...</td>\n",
       "    </tr>\n",
       "    <tr>\n",
       "      <th>2</th>\n",
       "      <td>0</td>\n",
       "      <td>b'Tomorrow, #MO03 seniors graduate from Calvar...</td>\n",
       "      <td>MO03</td>\n",
       "      <td>2</td>\n",
       "      <td>2014.0</td>\n",
       "      <td>R</td>\n",
       "      <td>tomorrow mo senior graduate calvary lutheran f...</td>\n",
       "    </tr>\n",
       "    <tr>\n",
       "      <th>3</th>\n",
       "      <td>9</td>\n",
       "      <td>b'Congrats to #TeamUSA and Canton Native @JGre...</td>\n",
       "      <td>TeamUSA WorldJuniors</td>\n",
       "      <td>3</td>\n",
       "      <td>2017.0</td>\n",
       "      <td>R</td>\n",
       "      <td>congrats teamusa canton native jgreenway winni...</td>\n",
       "    </tr>\n",
       "    <tr>\n",
       "      <th>4</th>\n",
       "      <td>3</td>\n",
       "      <td>b'Pleased to support @amergateways at their Ju...</td>\n",
       "      <td>ImmigrantHeritageMonth</td>\n",
       "      <td>3</td>\n",
       "      <td>2019.0</td>\n",
       "      <td>D</td>\n",
       "      <td>pleased support amergateways june fiesta honor...</td>\n",
       "    </tr>\n",
       "  </tbody>\n",
       "</table>\n",
       "</div>"
      ],
      "text/plain": [
       "   favorite_count                                          full_text  \\\n",
       "0               0  b\"RT @KUSINews: One of our longtime viewers wa...   \n",
       "1             258  b\"Today I'm urging the @CDCgov to immediately ...   \n",
       "2               0  b'Tomorrow, #MO03 seniors graduate from Calvar...   \n",
       "3               9  b'Congrats to #TeamUSA and Canton Native @JGre...   \n",
       "4               3  b'Pleased to support @amergateways at their Ju...   \n",
       "\n",
       "                 hashtags  retweet_count    year party_id  \\\n",
       "0                    KUSI             10  2017.0        R   \n",
       "1             Coronavirus            111  2020.0        R   \n",
       "2                    MO03              2  2014.0        R   \n",
       "3    TeamUSA WorldJuniors              3  2017.0        R   \n",
       "4  ImmigrantHeritageMonth              3  2019.0        D   \n",
       "\n",
       "                                          clean_text  \n",
       "0  rt kusinews one longtime viewer congressman da...  \n",
       "1  today urging cdcgov immediately launch phone h...  \n",
       "2  tomorrow mo senior graduate calvary lutheran f...  \n",
       "3  congrats teamusa canton native jgreenway winni...  \n",
       "4  pleased support amergateways june fiesta honor...  "
      ]
     },
     "execution_count": 63,
     "metadata": {},
     "output_type": "execute_result"
    }
   ],
   "source": [
    "train_data['clean_text'] = clean_text\n",
    "train_data.head()"
   ]
  },
  {
   "cell_type": "code",
   "execution_count": 64,
   "id": "9b7655ef",
   "metadata": {},
   "outputs": [],
   "source": [
    "#sorting the cleaned text into republican and democratic tweets\n",
    "repub_text = []\n",
    "dem_text = []\n",
    "repub_hashtag = []\n",
    "dem_hashtag = []\n",
    "\n",
    "for index, row in train_data.iterrows():\n",
    "    if row[\"party_id\"] == \"R\":\n",
    "        repub_text.append(row[\"clean_text\"])\n",
    "        repub_hashtag.append(row[\"hashtags\"])\n",
    "    else:\n",
    "        dem_text.append(row[\"clean_text\"])\n",
    "        dem_hashtag.append(row[\"hashtags\"])"
   ]
  },
  {
   "cell_type": "code",
   "execution_count": 68,
   "id": "e2289cc7",
   "metadata": {},
   "outputs": [],
   "source": [
    "def party_vectorize(text, n):\n",
    "    \n",
    "    #vectorizing the text\n",
    "    vec = CountVectorizer(max_features = 150000).fit(text)\n",
    "    bag_of_words = vec.transform(text)\n",
    "    \n",
    "    #summing up the usage of the words\n",
    "    sum_words = bag_of_words.sum(axis=0) \n",
    "    \n",
    "    #getting the frequency of the words\n",
    "    freq = [(word, sum_words[0, index]) for word, index in vec.vocabulary_.items()]\n",
    "    \n",
    "    #sorting out the n most used words in the texts\n",
    "    freq =sorted(freq, key = lambda x: x[1], reverse=True)\n",
    "    freq_dict = dict(freq[:n])\n",
    "       \n",
    "\n",
    "    return freq_dict"
   ]
  },
  {
   "cell_type": "code",
   "execution_count": 66,
   "id": "c3fa5e6b",
   "metadata": {},
   "outputs": [],
   "source": [
    "def party_score(dem_dict, repub_dict, text, exclusive, less, most):\n",
    "    \n",
    "    #power 20\n",
    "    dem_power = {k: dem_dict[k] for k in list(dem_dict)[:20]}\n",
    "    repub_power = {k: repub_dict[k] for k in list(repub_dict)[:20]}\n",
    "    \n",
    "    #a dict with the top n used words\n",
    "    dem_exclusive = {k: dem_dict[k] for k in list(dem_dict)[:exclusive]}\n",
    "    repub_exclusive = {k: repub_dict[k] for k in list(repub_dict)[:exclusive]}\n",
    "    \n",
    "    #a dict with the top n used words (less words than exclusive)\n",
    "    dem_less = {k: dem_dict[k] for k in list(dem_dict)[:less]}\n",
    "    repub_less = {k: repub_dict[k] for k in list(repub_dict)[:less]}\n",
    "    \n",
    "    #a dict with the top n used words (even less words than less (most exclusive))\n",
    "    dem_most = {k: dem_dict[k] for k in list(dem_dict)[:most]}\n",
    "    repub_most = {k: repub_dict[k] for k in list(repub_dict)[:most]}\n",
    "    \n",
    "    dem = []\n",
    "    repub = []\n",
    "    for tweet in text:\n",
    "        repub_score = 0\n",
    "        dem_score = 0\n",
    "        words = tweet.split()\n",
    "        \n",
    "        \n",
    "        #assigning scores to words based on whether there in a party dict,\n",
    "        #and assigning more points if theyre not in the other parties dicts\n",
    "        for word in words:\n",
    "            if word in dem_dict:\n",
    "                if word in dem_power and (word not in repub_power):\n",
    "                    dem_score += 50000\n",
    "                if word not in repub_exclusive:\n",
    "                    dem_score += 100000 * dem_dict.get(word)\n",
    "                if word not in repub_less:\n",
    "                    dem_score += 10000 * dem_dict.get(word)\n",
    "                if word not in repub_most:\n",
    "                    dem_score += 1000 * dem_dict.get(word)\n",
    "                else:\n",
    "                    dem_score += dem_dict.get(word)\n",
    "                    \n",
    "            if word in repub_dict:\n",
    "                if word in repub_power and (word not in dem_power):\n",
    "                    repub_score += 50000\n",
    "                if word not in dem_exclusive:\n",
    "                    repub_score += 100000 * repub_dict.get(word)\n",
    "                if word not in dem_less:\n",
    "                    repub_score += 10000 * repub_dict.get(word)\n",
    "                if word not in dem_most:\n",
    "                    repub_score += 1000 * repub_dict.get(word)\n",
    "                else:\n",
    "                    repub_score += repub_dict.get(word)\n",
    "                    \n",
    "        dem.append(dem_score)\n",
    "        repub.append(repub_score)\n",
    "   \n",
    "        \n",
    "    \n",
    "    return dem, repub\n",
    "        "
   ]
  },
  {
   "cell_type": "code",
   "execution_count": 69,
   "id": "66edfb98",
   "metadata": {},
   "outputs": [],
   "source": [
    "##creating dictionaries of the most used words for each of the parties\n",
    "dem_dict = party_vectorize(dem_text, 1000000)\n",
    "repub_dict = party_vectorize(repub_text, 1000000)\n",
    "dem_hash_dict = party_vectorize(dem_hashtag, len(hashtags))\n",
    "repub_hash_dict = party_vectorize(repub_hashtag, len(hashtags))"
   ]
  },
  {
   "cell_type": "code",
   "execution_count": 70,
   "id": "8cbd13dc",
   "metadata": {},
   "outputs": [],
   "source": [
    "#getting the dem score and repub score for every tweet\n",
    "dem_score, repub_score = party_score(dem_dict, repub_dict, clean_text, 25000, 5000, 2500)\n",
    "dem_hash_score, repub_hash_score  = party_score(dem_hash_dict, repub_hash_dict, hashtags, 100000, 50000, 25000)"
   ]
  },
  {
   "cell_type": "code",
   "execution_count": 71,
   "id": "245b31b8",
   "metadata": {},
   "outputs": [
    {
     "data": {
      "text/html": [
       "<div>\n",
       "<style scoped>\n",
       "    .dataframe tbody tr th:only-of-type {\n",
       "        vertical-align: middle;\n",
       "    }\n",
       "\n",
       "    .dataframe tbody tr th {\n",
       "        vertical-align: top;\n",
       "    }\n",
       "\n",
       "    .dataframe thead th {\n",
       "        text-align: right;\n",
       "    }\n",
       "</style>\n",
       "<table border=\"1\" class=\"dataframe\">\n",
       "  <thead>\n",
       "    <tr style=\"text-align: right;\">\n",
       "      <th></th>\n",
       "      <th>dem_score</th>\n",
       "      <th>repub_score</th>\n",
       "      <th>dem_hash_score</th>\n",
       "      <th>repub_hash_score</th>\n",
       "      <th>sentiment</th>\n",
       "    </tr>\n",
       "  </thead>\n",
       "  <tbody>\n",
       "    <tr>\n",
       "      <th>0</th>\n",
       "      <td>1263166</td>\n",
       "      <td>8449911</td>\n",
       "      <td>0</td>\n",
       "      <td>0</td>\n",
       "      <td>0.151</td>\n",
       "    </tr>\n",
       "    <tr>\n",
       "      <th>1</th>\n",
       "      <td>657604</td>\n",
       "      <td>488026</td>\n",
       "      <td>0</td>\n",
       "      <td>0</td>\n",
       "      <td>0.000</td>\n",
       "    </tr>\n",
       "    <tr>\n",
       "      <th>2</th>\n",
       "      <td>1575406</td>\n",
       "      <td>9421653</td>\n",
       "      <td>0</td>\n",
       "      <td>0</td>\n",
       "      <td>0.000</td>\n",
       "    </tr>\n",
       "    <tr>\n",
       "      <th>3</th>\n",
       "      <td>380216</td>\n",
       "      <td>866420</td>\n",
       "      <td>0</td>\n",
       "      <td>0</td>\n",
       "      <td>0.452</td>\n",
       "    </tr>\n",
       "    <tr>\n",
       "      <th>4</th>\n",
       "      <td>5941684</td>\n",
       "      <td>735920</td>\n",
       "      <td>0</td>\n",
       "      <td>0</td>\n",
       "      <td>0.322</td>\n",
       "    </tr>\n",
       "    <tr>\n",
       "      <th>...</th>\n",
       "      <td>...</td>\n",
       "      <td>...</td>\n",
       "      <td>...</td>\n",
       "      <td>...</td>\n",
       "      <td>...</td>\n",
       "    </tr>\n",
       "    <tr>\n",
       "      <th>592798</th>\n",
       "      <td>384847</td>\n",
       "      <td>277168</td>\n",
       "      <td>33</td>\n",
       "      <td>21</td>\n",
       "      <td>0.224</td>\n",
       "    </tr>\n",
       "    <tr>\n",
       "      <th>592799</th>\n",
       "      <td>125909</td>\n",
       "      <td>4673686</td>\n",
       "      <td>0</td>\n",
       "      <td>0</td>\n",
       "      <td>0.307</td>\n",
       "    </tr>\n",
       "    <tr>\n",
       "      <th>592800</th>\n",
       "      <td>8090328</td>\n",
       "      <td>169094</td>\n",
       "      <td>0</td>\n",
       "      <td>0</td>\n",
       "      <td>-0.094</td>\n",
       "    </tr>\n",
       "    <tr>\n",
       "      <th>592801</th>\n",
       "      <td>1122958</td>\n",
       "      <td>1113225</td>\n",
       "      <td>244</td>\n",
       "      <td>410</td>\n",
       "      <td>0.080</td>\n",
       "    </tr>\n",
       "    <tr>\n",
       "      <th>592802</th>\n",
       "      <td>75849514</td>\n",
       "      <td>646696</td>\n",
       "      <td>0</td>\n",
       "      <td>0</td>\n",
       "      <td>-0.244</td>\n",
       "    </tr>\n",
       "  </tbody>\n",
       "</table>\n",
       "<p>592803 rows × 5 columns</p>\n",
       "</div>"
      ],
      "text/plain": [
       "        dem_score  repub_score  dem_hash_score  repub_hash_score  sentiment\n",
       "0         1263166      8449911               0                 0      0.151\n",
       "1          657604       488026               0                 0      0.000\n",
       "2         1575406      9421653               0                 0      0.000\n",
       "3          380216       866420               0                 0      0.452\n",
       "4         5941684       735920               0                 0      0.322\n",
       "...           ...          ...             ...               ...        ...\n",
       "592798     384847       277168              33                21      0.224\n",
       "592799     125909      4673686               0                 0      0.307\n",
       "592800    8090328       169094               0                 0     -0.094\n",
       "592801    1122958      1113225             244               410      0.080\n",
       "592802   75849514       646696               0                 0     -0.244\n",
       "\n",
       "[592803 rows x 5 columns]"
      ]
     },
     "execution_count": 71,
     "metadata": {},
     "output_type": "execute_result"
    }
   ],
   "source": [
    "d = {\"dem_score\" : dem_score, \"repub_score\" : repub_score, \"dem_hash_score\" : dem_hash_score,\n",
    "    \"repub_hash_score\" : repub_hash_score, \"sentiment\" : tweet_sentiment}\n",
    "\n",
    "X_train = pd.DataFrame(d)\n",
    "X_train"
   ]
  },
  {
   "cell_type": "code",
   "execution_count": 72,
   "id": "efbdc046",
   "metadata": {},
   "outputs": [
    {
     "data": {
      "text/html": [
       "<div>\n",
       "<style scoped>\n",
       "    .dataframe tbody tr th:only-of-type {\n",
       "        vertical-align: middle;\n",
       "    }\n",
       "\n",
       "    .dataframe tbody tr th {\n",
       "        vertical-align: top;\n",
       "    }\n",
       "\n",
       "    .dataframe thead th {\n",
       "        text-align: right;\n",
       "    }\n",
       "</style>\n",
       "<table border=\"1\" class=\"dataframe\">\n",
       "  <thead>\n",
       "    <tr style=\"text-align: right;\">\n",
       "      <th></th>\n",
       "      <th>dem_score</th>\n",
       "      <th>repub_score</th>\n",
       "      <th>dem_hash_score</th>\n",
       "      <th>repub_hash_score</th>\n",
       "      <th>sentiment</th>\n",
       "    </tr>\n",
       "  </thead>\n",
       "  <tbody>\n",
       "    <tr>\n",
       "      <th>0</th>\n",
       "      <td>0.000879</td>\n",
       "      <td>0.004934</td>\n",
       "      <td>0.0</td>\n",
       "      <td>0.0</td>\n",
       "      <td>0.5755</td>\n",
       "    </tr>\n",
       "    <tr>\n",
       "      <th>1</th>\n",
       "      <td>0.000457</td>\n",
       "      <td>0.000285</td>\n",
       "      <td>0.0</td>\n",
       "      <td>0.0</td>\n",
       "      <td>0.5000</td>\n",
       "    </tr>\n",
       "    <tr>\n",
       "      <th>2</th>\n",
       "      <td>0.001096</td>\n",
       "      <td>0.005502</td>\n",
       "      <td>0.0</td>\n",
       "      <td>0.0</td>\n",
       "      <td>0.5000</td>\n",
       "    </tr>\n",
       "    <tr>\n",
       "      <th>3</th>\n",
       "      <td>0.000264</td>\n",
       "      <td>0.000506</td>\n",
       "      <td>0.0</td>\n",
       "      <td>0.0</td>\n",
       "      <td>0.7260</td>\n",
       "    </tr>\n",
       "    <tr>\n",
       "      <th>4</th>\n",
       "      <td>0.004132</td>\n",
       "      <td>0.000430</td>\n",
       "      <td>0.0</td>\n",
       "      <td>0.0</td>\n",
       "      <td>0.6610</td>\n",
       "    </tr>\n",
       "  </tbody>\n",
       "</table>\n",
       "</div>"
      ],
      "text/plain": [
       "   dem_score  repub_score  dem_hash_score  repub_hash_score  sentiment\n",
       "0   0.000879     0.004934             0.0               0.0     0.5755\n",
       "1   0.000457     0.000285             0.0               0.0     0.5000\n",
       "2   0.001096     0.005502             0.0               0.0     0.5000\n",
       "3   0.000264     0.000506             0.0               0.0     0.7260\n",
       "4   0.004132     0.000430             0.0               0.0     0.6610"
      ]
     },
     "execution_count": 72,
     "metadata": {},
     "output_type": "execute_result"
    }
   ],
   "source": [
    "#scaling\n",
    "min_max_scaler = preprocessing.MinMaxScaler()\n",
    "X_scaled = min_max_scaler.fit_transform(X_train)\n",
    "X_scaled = pd.DataFrame(X_scaled, columns = ['dem_score', 'repub_score', 'dem_hash_score', 'repub_hash_score', 'sentiment'])\n",
    "X_scaled.head()"
   ]
  },
  {
   "cell_type": "code",
   "execution_count": 73,
   "id": "34bb4d0f",
   "metadata": {},
   "outputs": [],
   "source": [
    "y = train_data[\"party_id\"]"
   ]
  },
  {
   "cell_type": "code",
   "execution_count": 74,
   "id": "c8c12a9e",
   "metadata": {},
   "outputs": [
    {
     "data": {
      "text/plain": [
       "0.8612877650511969"
      ]
     },
     "execution_count": 74,
     "metadata": {},
     "output_type": "execute_result"
    }
   ],
   "source": [
    "#fitting our random forest classification\n",
    "X_train, X_test, y_train, y_test = train_test_split(X_scaled, y, test_size = .10, random_state =265)\n",
    "model = RandomForestClassifier(max_depth = 20, random_state = 0)\n",
    "model.fit(X_train, y_train)\n",
    "prediction = model.predict(X_test)\n",
    "rf_accuracy = accuracy_score(prediction, y_test)\n",
    "rf_accuracy"
   ]
  },
  {
   "cell_type": "markdown",
   "id": "85d90b9a",
   "metadata": {},
   "source": [
    "## Predicting the Test Data"
   ]
  },
  {
   "cell_type": "code",
   "execution_count": 75,
   "id": "987ef58e",
   "metadata": {},
   "outputs": [],
   "source": [
    "test_data = pd.read_csv(\"congressional_tweet_test_data.csv\")"
   ]
  },
  {
   "cell_type": "code",
   "execution_count": 76,
   "id": "90a282ed",
   "metadata": {},
   "outputs": [],
   "source": [
    "test_hashtags = test_data['hashtags']\n",
    "test_text = test_data['full_text']"
   ]
  },
  {
   "cell_type": "code",
   "execution_count": 77,
   "id": "84e8484a",
   "metadata": {},
   "outputs": [],
   "source": [
    "#cleaning the test text in the same way\n",
    "test_clean_text, test_tweet_sentiment = clean(test_text)"
   ]
  },
  {
   "cell_type": "code",
   "execution_count": 101,
   "id": "acc3275e",
   "metadata": {},
   "outputs": [],
   "source": [
    "#scoring the text based on the dictionaries created above\n",
    "test_dem_score, test_repub_score = party_score(dem_dict, repub_dict, test_clean_text, 25000, 5000, 2500)\n",
    "test_dem_hash_score, test_repub_hash_score = party_score(dem_hash_dict, repub_hash_dict, test_hashtags, 100000, 50000, 25000)"
   ]
  },
  {
   "cell_type": "code",
   "execution_count": 102,
   "id": "30687667",
   "metadata": {},
   "outputs": [
    {
     "data": {
      "text/html": [
       "<div>\n",
       "<style scoped>\n",
       "    .dataframe tbody tr th:only-of-type {\n",
       "        vertical-align: middle;\n",
       "    }\n",
       "\n",
       "    .dataframe tbody tr th {\n",
       "        vertical-align: top;\n",
       "    }\n",
       "\n",
       "    .dataframe thead th {\n",
       "        text-align: right;\n",
       "    }\n",
       "</style>\n",
       "<table border=\"1\" class=\"dataframe\">\n",
       "  <thead>\n",
       "    <tr style=\"text-align: right;\">\n",
       "      <th></th>\n",
       "      <th>dem_score</th>\n",
       "      <th>repub_score</th>\n",
       "      <th>dem_hash_score</th>\n",
       "      <th>repub_hash_score</th>\n",
       "      <th>sentiment</th>\n",
       "    </tr>\n",
       "  </thead>\n",
       "  <tbody>\n",
       "    <tr>\n",
       "      <th>0</th>\n",
       "      <td>0.000234</td>\n",
       "      <td>0.000127</td>\n",
       "      <td>0.0</td>\n",
       "      <td>0.0</td>\n",
       "      <td>0.6120</td>\n",
       "    </tr>\n",
       "    <tr>\n",
       "      <th>1</th>\n",
       "      <td>0.006567</td>\n",
       "      <td>0.000044</td>\n",
       "      <td>0.0</td>\n",
       "      <td>0.0</td>\n",
       "      <td>0.5305</td>\n",
       "    </tr>\n",
       "    <tr>\n",
       "      <th>2</th>\n",
       "      <td>0.008248</td>\n",
       "      <td>0.000907</td>\n",
       "      <td>0.0</td>\n",
       "      <td>0.0</td>\n",
       "      <td>0.4310</td>\n",
       "    </tr>\n",
       "    <tr>\n",
       "      <th>3</th>\n",
       "      <td>0.000995</td>\n",
       "      <td>0.048622</td>\n",
       "      <td>0.0</td>\n",
       "      <td>0.0</td>\n",
       "      <td>0.6310</td>\n",
       "    </tr>\n",
       "    <tr>\n",
       "      <th>4</th>\n",
       "      <td>0.000404</td>\n",
       "      <td>0.004345</td>\n",
       "      <td>0.0</td>\n",
       "      <td>0.0</td>\n",
       "      <td>0.6440</td>\n",
       "    </tr>\n",
       "  </tbody>\n",
       "</table>\n",
       "</div>"
      ],
      "text/plain": [
       "   dem_score  repub_score  dem_hash_score  repub_hash_score  sentiment\n",
       "0   0.000234     0.000127             0.0               0.0     0.6120\n",
       "1   0.006567     0.000044             0.0               0.0     0.5305\n",
       "2   0.008248     0.000907             0.0               0.0     0.4310\n",
       "3   0.000995     0.048622             0.0               0.0     0.6310\n",
       "4   0.000404     0.004345             0.0               0.0     0.6440"
      ]
     },
     "execution_count": 102,
     "metadata": {},
     "output_type": "execute_result"
    }
   ],
   "source": [
    "d_test = {\"test_dem_score\" : test_dem_score, \"test_repub_score\" : test_repub_score, \"test_dem_hash_score\" : test_dem_hash_score,\n",
    "    \"test_repub_hash_score\" : test_repub_hash_score, \"sentiment\" : test_tweet_sentiment}\n",
    "\n",
    "X_test = pd.DataFrame(d_test)\n",
    "X_test = min_max_scaler.fit_transform(X_test)\n",
    "X_test = pd.DataFrame(X_test, columns = ['dem_score', 'repub_score', 'dem_hash_score', 'repub_hash_score', 'sentiment'])\n",
    "X_test.head()"
   ]
  },
  {
   "cell_type": "code",
   "execution_count": 103,
   "id": "4e3631b6",
   "metadata": {},
   "outputs": [],
   "source": [
    "#making the prediction\n",
    "test_prediction = model.predict(X_test)"
   ]
  },
  {
   "cell_type": "code",
   "execution_count": 104,
   "id": "e56ea033",
   "metadata": {},
   "outputs": [],
   "source": [
    "#results11 = pd.DataFrame({'party' : test_prediction})\n",
    "#results11 = pd.DataFrame({'Id' : list(results11.index.values), 'party' : test_prediction})\n",
    "#results11.to_csv('results_11.csv', header=True, index=False)"
   ]
  },
  {
   "cell_type": "markdown",
   "id": "5b1eacc8",
   "metadata": {},
   "source": [
    "## Data Visualization"
   ]
  },
  {
   "cell_type": "code",
   "execution_count": 44,
   "id": "c03dae82",
   "metadata": {},
   "outputs": [],
   "source": [
    "import matplotlib.pyplot as plt\n",
    "import matplotlib as mpl\n",
    "import seaborn as sns"
   ]
  },
  {
   "cell_type": "code",
   "execution_count": 45,
   "id": "06866c7b",
   "metadata": {},
   "outputs": [
    {
     "data": {
      "image/png": "[encoded data removed]",
      "text/plain": [
       "<Figure size 432x288 with 1 Axes>"
      ]
     },
     "metadata": {
      "needs_background": "light"
     },
     "output_type": "display_data"
    }
   ],
   "source": [
    "first_ten_dems = {k: dem_dict[k] for k in list(dem_dict)[:10]}\n",
    "\n",
    "dem_keys= []\n",
    "dem_vals = []\n",
    "for key in first_ten_dems.keys():\n",
    "    dem_keys.append(key)\n",
    "    dem_vals.append(first_ten_dems.get(key))\n",
    "\n",
    "plt.barh(dem_keys, dem_vals, align='center', alpha = 0.75)\n",
    "plt.xlabel(\"Terms\")\n",
    "plt.ylabel(\"Times Used in Test Text\")\n",
    "plt.title(\"Most Used Terms by Democrats\")\n",
    "plt.savefig(\"dem_words.png\", dpi=300)"
   ]
  },
  {
   "cell_type": "code",
   "execution_count": 46,
   "id": "eba5882a",
   "metadata": {},
   "outputs": [
    {
     "data": {
      "image/png": "[encoded data removed]",
      "text/plain": [
       "<Figure size 432x288 with 1 Axes>"
      ]
     },
     "metadata": {
      "needs_background": "light"
     },
     "output_type": "display_data"
    }
   ],
   "source": [
    "first_ten_repub = {k: repub_dict[k] for k in list(repub_dict)[:10]}\n",
    "\n",
    "repub_keys= []\n",
    "repub_vals = []\n",
    "for key in first_ten_repub.keys():\n",
    "    repub_keys.append(key)\n",
    "    repub_vals.append(first_ten_repub.get(key))\n",
    "\n",
    "plt.barh(repub_keys, repub_vals, align='center', alpha = 0.75, color='red')\n",
    "plt.xlabel(\"Terms\")\n",
    "plt.ylabel(\"Times Used in Test Text\")\n",
    "plt.title(\"Most Used Terms by Republicans\")\n",
    "plt.savefig(\"repub_words.png\", dpi=300)"
   ]
  },
  {
   "cell_type": "code",
   "execution_count": 50,
   "id": "a6f9f378",
   "metadata": {},
   "outputs": [],
   "source": [
    "import random\n",
    "\n",
    "clean_text_mini = []\n",
    "mini_id = []\n",
    "for i in range(500):\n",
    "    random_index = random.randrange(len(clean_text))\n",
    "    clean_text_mini.append(clean_text[random_index])\n",
    "    mini_id.append(y[random_index])\n",
    "\n",
    "\n",
    "positive = []\n",
    "negative = []\n",
    "for tweet in clean_text_mini:\n",
    "    \n",
    "    polarity = sia.polarity_scores(tweet)\n",
    "    positive.append(polarity['pos'])\n",
    "    negative.append(polarity['neg'])"
   ]
  },
  {
   "cell_type": "code",
   "execution_count": 51,
   "id": "4ce71611",
   "metadata": {},
   "outputs": [],
   "source": [
    "#changign R and D to 0 and 1\n",
    "for i in range(len(mini_id)):\n",
    "    if mini_id[i] == 'R':\n",
    "        mini_id[i] = 0\n",
    "    if mini_id[i] == 'D':\n",
    "        mini_id[i] = 1"
   ]
  },
  {
   "cell_type": "code",
   "execution_count": 52,
   "id": "c3edd2a0",
   "metadata": {},
   "outputs": [
    {
     "data": {
      "image/png": "[encoded data removed]",
      "text/plain": [
       "<Figure size 432x288 with 1 Axes>"
      ]
     },
     "metadata": {
      "needs_background": "light"
     },
     "output_type": "display_data"
    }
   ],
   "source": [
    "colors = ['red', 'blue']\n",
    "\n",
    "plt.scatter(positive, negative, c=mini_id, cmap=mpl.colors.ListedColormap(colors), alpha = 0.3)\n",
    "plt.title(\"Sentiment of Tweets: random 500 samples\")\n",
    "plt.xlabel(\"Positve Score\")\n",
    "plt.ylabel(\"Negative Score\")\n",
    "plt.savefig(\"sentiment.png\", dpi=300)"
   ]
  },
  {
   "cell_type": "code",
   "execution_count": 111,
   "id": "20eb49e4",
   "metadata": {},
   "outputs": [],
   "source": [
    "X_train, X_test, y_train, y_test = train_test_split(X_scaled, y, test_size = .10, random_state =265)\n",
    "model2 = GaussianNB()\n",
    "model2.fit(X_train, y_train)\n",
    "gauss_predict = model2.predict(X_test)\n",
    "gauss_accuracy = accuracy_score(gauss_predict, y_test)"
   ]
  },
  {
   "cell_type": "code",
   "execution_count": 112,
   "id": "9d92ad5b",
   "metadata": {},
   "outputs": [],
   "source": [
    "model3 = ComplementNB()\n",
    "model3.fit(X_train, y_train)\n",
    "compl_predict = model3.predict(X_test)\n",
    "complement_accuracy = accuracy_score(compl_predict, y_test)"
   ]
  },
  {
   "cell_type": "code",
   "execution_count": 113,
   "id": "ee5adbfc",
   "metadata": {},
   "outputs": [],
   "source": [
    "model4 = LogisticRegressionCV(cv=5, random_state=265, max_iter = 1000, n_jobs=-1)\n",
    "model4.fit(X_train, y_train)\n",
    "log_predict = model4.predict(X_test)\n",
    "log_accuracy = accuracy_score(log_predict, y_test)"
   ]
  },
  {
   "cell_type": "code",
   "execution_count": 114,
   "id": "312c8fac",
   "metadata": {},
   "outputs": [
    {
     "data": {
      "text/plain": [
       "0.8302491523422344"
      ]
     },
     "execution_count": 114,
     "metadata": {},
     "output_type": "execute_result"
    }
   ],
   "source": [
    "model5 = AdaBoostClassifier(n_estimators = 250)\n",
    "model5.fit(X_train, y_train)\n",
    "ada_predict = model5.predict(X_test)\n",
    "ada_accuracy = accuracy_score(ada_predict, y_test)\n",
    "ada_accuracy                            "
   ]
  },
  {
   "cell_type": "code",
   "execution_count": 115,
   "id": "f3ee7e12",
   "metadata": {},
   "outputs": [],
   "source": [
    "models = [\"Logistic\", \"Gaussian\", \"Complement\", \"RandomForest\", \"ADABoost\"]    \n",
    "values = [log_accuracy, gauss_accuracy, complement_accuracy, rf_accuracy, ada_accuracy]"
   ]
  },
  {
   "cell_type": "code",
   "execution_count": 116,
   "id": "dbd8c690",
   "metadata": {},
   "outputs": [
    {
     "data": {
      "image/png": "[encoded data removed]",
      "text/plain": [
       "<Figure size 432x288 with 1 Axes>"
      ]
     },
     "metadata": {
      "needs_background": "light"
     },
     "output_type": "display_data"
    }
   ],
   "source": [
    "fig, ax = plt.subplots()\n",
    "\n",
    "bars = ax.bar(\n",
    "        x = models,\n",
    "        height = values,\n",
    "        color='green',\n",
    "        alpha = 0.3)\n",
    "\n",
    "for bar in bars:\n",
    "    ax.text(\n",
    "      bar.get_x() + bar.get_width() / 2,\n",
    "      bar.get_height() + 0.005,\n",
    "      round(bar.get_height(), 3),\n",
    "      horizontalalignment='center',\n",
    "      color='green',\n",
    "      weight='bold'\n",
    "  )\n",
    "\n",
    "plt.tick_params(axis='x', labelsize=8)\n",
    "plt.savefig(\"model_testing.png\", dpi=300)"
   ]
  }
 ],
 "metadata": {
  "kernelspec": {
   "display_name": "Python 3 (ipykernel)",
   "language": "python",
   "name": "python3"
  },
  "language_info": {
   "codemirror_mode": {
    "name": "ipython",
    "version": 3
   },
   "file_extension": ".py",
   "mimetype": "text/x-python",
   "name": "python",
   "nbconvert_exporter": "python",
   "pygments_lexer": "ipython3",
   "version": "3.9.7"
  }
 },
 "nbformat": 4,
 "nbformat_minor": 5
}
